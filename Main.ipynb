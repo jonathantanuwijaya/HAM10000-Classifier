{
 "cells": [
  {
   "cell_type": "code",
   "execution_count": 1,
   "id": "3cb0f71e",
   "metadata": {},
   "outputs": [],
   "source": [
    "import tensorflow as tf\n",
    "import pandas as pd\n",
    "import os\n",
    "import shutil\n",
    "import random"
   ]
  },
  {
   "cell_type": "code",
   "execution_count": 2,
   "id": "1da0f303",
   "metadata": {},
   "outputs": [],
   "source": [
    "# Dumping all images\n",
    "data_dir = os.getcwd()+\"/data/all_images/\"\n",
    "\n",
    "# Destination file\n",
    "dest_dir = os.getcwd()+\"/data/reorganized/\""
   ]
  },
  {
   "cell_type": "code",
   "execution_count": 3,
   "outputs": [
    {
     "name": "stdout",
     "output_type": "stream",
     "text": [
      "nv       6705\n",
      "mel      1113\n",
      "bkl      1099\n",
      "bcc       514\n",
      "akiec     327\n",
      "vasc      142\n",
      "df        115\n",
      "Name: dx, dtype: int64\n",
      "\n",
      "['mel', 'akiec', 'bcc', 'nv', 'bkl']\n"
     ]
    }
   ],
   "source": [
    "#read Data from metadata\n",
    "skin_df2 = pd.read_csv('data/HAM10000_metadata')\n",
    "print(skin_df2['dx'].value_counts())\n",
    "\n",
    "# combine the labels to list\n",
    "label_img=skin_df2['dx'].unique().tolist()\n",
    "# remove ununsed label\n",
    "unwanted_label = ['vasc','df']\n",
    "label = list(set(label_img) - set(unwanted_label))\n",
    "\n",
    "print()\n",
    "print(label)\n",
    "#Extract labels into a list\n",
    "label_images = []"
   ],
   "metadata": {
    "collapsed": false,
    "pycharm": {
     "name": "#%%\n"
    }
   }
  },
  {
   "cell_type": "code",
   "execution_count": 4,
   "outputs": [],
   "source": [
    "# Copy images to new folders\n",
    "for i in label:\n",
    "    os.mkdir(dest_dir + str(i) + \"/\")\n",
    "    sample = skin_df2[skin_df2['dx'] == i]['image_id']\n",
    "    label_images.extend(sample)\n",
    "    for id in random.sample(range(len(label_images)),327):\n",
    "        data = label_images[id]\n",
    "        shutil.copyfile((data_dir + \"/\"+ data +\".jpg\"), (dest_dir + i + \"/\"+data+\".jpg\"))\n",
    "    label_images=[]"
   ],
   "metadata": {
    "collapsed": false,
    "pycharm": {
     "name": "#%%\n"
    }
   }
  },
  {
   "cell_type": "code",
   "execution_count": 43,
   "outputs": [
    {
     "name": "stdout",
     "output_type": "stream",
     "text": [
      "108\n",
      "2\n",
      "115\n",
      "6\n",
      "111\n",
      "114\n",
      "26\n",
      "53\n",
      "47\n"
     ]
    }
   ],
   "source": [],
   "metadata": {
    "collapsed": false,
    "pycharm": {
     "name": "#%%\n"
    }
   }
  }
 ],
 "metadata": {
  "kernelspec": {
   "name": "pycharm-464145aa",
   "language": "python",
   "display_name": "PyCharm (HAMClassification)"
  },
  "language_info": {
   "codemirror_mode": {
    "name": "ipython",
    "version": 3
   },
   "file_extension": ".py",
   "mimetype": "text/x-python",
   "name": "python",
   "nbconvert_exporter": "python",
   "pygments_lexer": "ipython3",
   "version": "3.7.9"
  }
 },
 "nbformat": 4,
 "nbformat_minor": 5
}