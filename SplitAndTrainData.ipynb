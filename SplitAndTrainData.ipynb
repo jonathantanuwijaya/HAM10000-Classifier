{
 "cells": [
  {
   "cell_type": "code",
   "execution_count": 1,
   "metadata": {
    "collapsed": true
   },
   "outputs": [],
   "source": [
    "import tensorflow as tf\n",
    "import numpy as np\n",
    "import cv2\n",
    "import os\n",
    "import pickle"
   ]
  },
  {
   "cell_type": "code",
   "execution_count": 2,
   "outputs": [],
   "source": [
    "physical_devices = tf.config.experimental.list_physical_devices('GPU')\n",
    "tf.config.experimental.set_memory_growth(physical_devices[0], True)\n",
    "\n",
    "root_dir = os.getcwd() + \"\\\\data\\\\reorganized\"\n",
    "categories = os.listdir(root_dir)\n",
    "width = 224\n",
    "height = 224\n",
    "dim = (width, height)\n",
    "data = []\n"
   ],
   "metadata": {
    "collapsed": false,
    "pycharm": {
     "name": "#%%\n"
    }
   }
  },
  {
   "cell_type": "code",
   "execution_count": 29,
   "outputs": [],
   "source": [
    "def make_data():\n",
    "    for category in categories:\n",
    "        path = os.path.join(root_dir, category)\n",
    "        label = categories.index(category)\n",
    "\n",
    "        for img_name in os.listdir(path):\n",
    "            image_path = os.path.join(path, img_name)\n",
    "            image = cv2.imread(image_path)\n",
    "\n",
    "            try:\n",
    "                image = cv2.cvtColor(image, cv2.COLOR_BGR2RGB)\n",
    "                image = cv2.resize(image, dim)\n",
    "                image = np.array(image, dtype=np.float32)\n",
    "                data.append([image, label])\n",
    "            except Exception as e:\n",
    "                pass\n",
    "\n",
    "    pik = open('pickle/ham10000classifier.pickle', 'wb')\n",
    "    pickle.dump(data, pik)\n",
    "    pik.close()"
   ],
   "metadata": {
    "collapsed": false,
    "pycharm": {
     "name": "#%%\n"
    }
   }
  },
  {
   "cell_type": "code",
   "execution_count": 30,
   "outputs": [],
   "source": [
    "# make_data()"
   ],
   "metadata": {
    "collapsed": false,
    "pycharm": {
     "name": "#%%\n"
    }
   }
  },
  {
   "cell_type": "code",
   "execution_count": 25,
   "outputs": [],
   "source": [
    "def load_data():\n",
    "    pick = open('pickle/ham10000classifier.pickle', 'rb')\n",
    "    data = pickle.load(pick)\n",
    "    pick.close()\n",
    "\n",
    "    feature = []\n",
    "    labels = []\n",
    "\n",
    "    for img, label in data:\n",
    "        feature.append(img)\n",
    "        labels.append(label)\n",
    "\n",
    "    feature = np.array(feature, dtype=np.float32)\n",
    "    labels = np.array(labels)\n",
    "    feature = feature / 255.0\n",
    "    return [feature, labels]"
   ],
   "metadata": {
    "collapsed": false,
    "pycharm": {
     "name": "#%%\n"
    }
   }
  },
  {
   "cell_type": "code",
   "execution_count": 26,
   "outputs": [],
   "source": [
    "(feature, labels) = load_data()"
   ],
   "metadata": {
    "collapsed": false,
    "pycharm": {
     "name": "#%%\n"
    }
   }
  },
  {
   "cell_type": "code",
   "execution_count": 30,
   "outputs": [],
   "source": [
    "from ModelResNet import create_model\n",
    "from tensorflow.keras.optimizers import Adam\n",
    "\n",
    "lr = 0.0001\n",
    "model = create_model()\n",
    "model.compile(loss='sparse_categorical_crossentropy',\n",
    "              optimizer=Adam(learning_rate=lr),\n",
    "              metrics=['acc'])\n",
    "inputs = feature\n",
    "targets = labels\n",
    "fold_no = 1\n",
    "\n",
    "from KFoldTrain import KFoldtrain\n",
    "\n",
    "KFoldtrain(num_folds=3,inputs=feature,targets=labels,model=model,categories=categories)\n"
   ],
   "metadata": {
    "collapsed": false,
    "pycharm": {
     "name": "#%%\n"
    }
   }
  }
 ],
 "metadata": {
  "kernelspec": {
   "display_name": "Python 3",
   "language": "python",
   "name": "python3"
  },
  "language_info": {
   "codemirror_mode": {
    "name": "ipython",
    "version": 2
   },
   "file_extension": ".py",
   "mimetype": "text/x-python",
   "name": "python",
   "nbconvert_exporter": "python",
   "pygments_lexer": "ipython2",
   "version": "2.7.6"
  }
 },
 "nbformat": 4,
 "nbformat_minor": 0
}