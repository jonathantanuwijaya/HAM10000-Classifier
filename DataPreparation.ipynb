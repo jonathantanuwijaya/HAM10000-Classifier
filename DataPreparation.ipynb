{
 "cells": [
  {
   "cell_type": "code",
   "execution_count": 2,
   "id": "3cb0f71e",
   "metadata": {},
   "outputs": [],
   "source": [
    "import tensorflow as tf\n",
    "import pandas as pd\n",
    "import os\n",
    "import shutil\n",
    "import random"
   ]
  },
  {
   "cell_type": "code",
   "execution_count": 34,
   "id": "1da0f303",
   "metadata": {},
   "outputs": [],
   "source": [
    "# Dumping all images\n",
    "data_dir = os.getcwd()+\"/data/all_images/\"\n",
    "\n",
    "# Destination file\n",
    "dest_dir = os.getcwd()+\"/data/reorganized/\""
   ]
  },
  {
   "cell_type": "code",
   "execution_count": 32,
   "outputs": [
    {
     "name": "stdout",
     "output_type": "stream",
     "text": [
      "['bkl', 'nv', 'mel', 'bcc', 'akiec']\n",
      "327\n"
     ]
    }
   ],
   "source": [
    "#read Data from metadata\n",
    "skin_df2 = pd.read_csv('data/HAM10000_metadata')\n",
    "unwanted_label = ['vasc','df']\n",
    "wanted_data = skin_df2.query(\"dx!=@unwanted_label\")\n",
    "label=wanted_data['dx'].unique().tolist()\n",
    "min_pic_count = wanted_data['dx'].value_counts().min()\n",
    "print(label)\n",
    "print(min_pic_count)\n",
    "label_images = []\n"
   ],
   "metadata": {
    "collapsed": false,
    "pycharm": {
     "name": "#%%\n"
    }
   }
  },
  {
   "cell_type": "code",
   "execution_count": 35,
   "outputs": [],
   "source": [
    "# Copy images to new folders\n",
    "for i in label:\n",
    "    os.mkdir(dest_dir + str(i) + \"/\")\n",
    "    sample = skin_df2[skin_df2['dx'] == i]['image_id']\n",
    "    label_images.extend(sample)\n",
    "    for id in random.sample(range(len(label_images)),min_pic_count):\n",
    "        data = label_images[id]\n",
    "        shutil.copyfile((data_dir + \"/\"+ data +\".jpg\"), (dest_dir + i + \"/\"+data+\".jpg\"))\n",
    "    label_images=[]"
   ],
   "metadata": {
    "collapsed": false,
    "pycharm": {
     "name": "#%%\n"
    }
   }
  },
  {
   "cell_type": "code",
   "execution_count": 43,
   "outputs": [
    {
     "name": "stdout",
     "output_type": "stream",
     "text": [
      "108\n",
      "2\n",
      "115\n",
      "6\n",
      "111\n",
      "114\n",
      "26\n",
      "53\n",
      "47\n"
     ]
    }
   ],
   "source": [
    "from keras_preprocessing.image import ImageDataGenerator\n",
    "from matplotlib import pyplot as plt"
   ],
   "metadata": {
    "collapsed": false,
    "pycharm": {
     "name": "#%%\n"
    }
   }
  },
  {
   "cell_type": "code",
   "execution_count": null,
   "outputs": [],
   "source": [
    "# Define datagen\n",
    "datagen = ImageDataGenerator()\n",
    "\n",
    "# define training directory that contains subfolders\n",
    "train_dir = os.getcwd() + \"/data/reorganized/\"\n",
    "# Use flow_from_directory\n",
    "train_data_keras = datagen.flow_from_directory(directory=train_dir,\n",
    "                                         class_mode='categorical',\n",
    "                                         batch_size=16,  #16 images at a time\n",
    "                                         target_size=(32,32))  #Resize images\n",
    "\n",
    "# Check images for a single batch.\n",
    "x, y = next(train_data_keras)\n",
    "\n",
    "# View each image\n",
    "for i in range (0,15):\n",
    "    image = x[i].astype(int)\n",
    "    plt.imshow(image)\n",
    "    plt.show()\n"
   ],
   "metadata": {
    "collapsed": false,
    "pycharm": {
     "name": "#%%\n"
    }
   }
  },
  {
   "cell_type": "code",
   "execution_count": 36,
   "outputs": [],
   "source": [],
   "metadata": {
    "collapsed": false,
    "pycharm": {
     "name": "#%%\n"
    }
   }
  },
  {
   "cell_type": "code",
   "execution_count": null,
   "outputs": [],
   "source": [],
   "metadata": {
    "collapsed": false,
    "pycharm": {
     "name": "#%%\n"
    }
   }
  }
 ],
 "metadata": {
  "kernelspec": {
   "name": "pycharm-464145aa",
   "language": "python",
   "display_name": "PyCharm (HAMClassification)"
  },
  "language_info": {
   "codemirror_mode": {
    "name": "ipython",
    "version": 3
   },
   "file_extension": ".py",
   "mimetype": "text/x-python",
   "name": "python",
   "nbconvert_exporter": "python",
   "pygments_lexer": "ipython3",
   "version": "3.7.9"
  }
 },
 "nbformat": 4,
 "nbformat_minor": 5
}