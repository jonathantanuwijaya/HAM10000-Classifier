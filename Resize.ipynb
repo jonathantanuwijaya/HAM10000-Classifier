{
 "cells": [
  {
   "cell_type": "code",
   "execution_count": 6,
   "metadata": {
    "collapsed": true,
    "pycharm": {
     "name": "#%%\n"
    }
   },
   "outputs": [],
   "source": [
    "import cv2, glob,os"
   ]
  },
  {
   "cell_type": "code",
   "execution_count": 22,
   "outputs": [
    {
     "name": "stdout",
     "output_type": "stream",
     "text": [
      "['D:\\\\PythonProject\\\\HAMClassification/data/dest\\\\ISIC_0024374.jpg']\n",
      "Original Dimensions : D:\\PythonProject\\HAMClassification/data/dest\\ISIC_0024374.jpg:  (450, 600, 3)\n",
      "Resized Dimensions : D:\\PythonProject\\HAMClassification/data/dest\\ISIC_0024374.jpg:  (224, 224, 3)\n",
      "\n"
     ]
    }
   ],
   "source": [
    "path = os.getcwd()+'/data//*.JPG'\n",
    "images = glob.glob(path)\n",
    "print(images)\n",
    "width = 224\n",
    "height = 224\n",
    "dim = (width, height)\n",
    "for image in images:\n",
    "    img = cv2.imread(image, cv2.IMREAD_UNCHANGED)\n",
    "    resized = cv2.resize(img, dim, interpolation=cv2.INTER_AREA)\n",
    "    print('Original Dimensions : ' + image + ': ', img.shape)\n",
    "    print('Resized Dimensions : ' + image + ': ', resized.shape)\n",
    "    print('')\n",
    "\n",
    "    cv2.imshow(\"cek\", resized)\n",
    "    cv2.imwrite(\"Resize - \" + image, resized)\n",
    "    cv2.waitKey(500)\n",
    "    cv2.destroyAllWindows()\n"
   ],
   "metadata": {
    "collapsed": false,
    "pycharm": {
     "name": "#%%\n"
    }
   }
  }
 ],
 "metadata": {
  "kernelspec": {
   "display_name": "Python 3",
   "language": "python",
   "name": "python3"
  },
  "language_info": {
   "codemirror_mode": {
    "name": "ipython",
    "version": 2
   },
   "file_extension": ".py",
   "mimetype": "text/x-python",
   "name": "python",
   "nbconvert_exporter": "python",
   "pygments_lexer": "ipython2",
   "version": "2.7.6"
  }
 },
 "nbformat": 4,
 "nbformat_minor": 0
}